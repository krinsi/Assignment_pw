{
  "cells": [
    {
      "cell_type": "markdown",
      "metadata": {
        "id": "-agqimKOSKbp"
      },
      "source": [
        "1. write code to reverse string"
      ]
    },
    {
      "cell_type": "code",
      "execution_count": null,
      "metadata": {
        "colab": {
          "base_uri": "https://localhost:8080/"
        },
        "id": "oLkjyT9PSNgg",
        "outputId": "e05168a2-29f6-4914-e64b-ebbe17835417"
      },
      "outputs": [
        {
          "output_type": "stream",
          "name": "stdout",
          "text": [
            "enter string :ert\n",
            "tre\n"
          ]
        }
      ],
      "source": [
        "str=input(\"enter string :\")\n",
        "reverse=str[::-1]\n",
        "print(reverse)"
      ]
    },
    {
      "cell_type": "markdown",
      "metadata": {
        "id": "64woHlHGSVPn"
      },
      "source": [
        "2.Write code to count number of vowels in string\n"
      ]
    },
    {
      "cell_type": "code",
      "execution_count": null,
      "metadata": {
        "colab": {
          "base_uri": "https://localhost:8080/"
        },
        "id": "9zIQdTkTSVz5",
        "outputId": "d6882711-e8f7-4049-955c-249fadee7eb6"
      },
      "outputs": [
        {
          "output_type": "stream",
          "name": "stdout",
          "text": [
            "enter string :fghjkii\n",
            "2\n"
          ]
        }
      ],
      "source": [
        "string = input(\"enter string :\")\n",
        "vowels = \"aeiouAEIOU\"\n",
        "\n",
        "count = sum(string.count(i) for i in vowels)\n",
        "print(count)"
      ]
    },
    {
      "cell_type": "markdown",
      "metadata": {
        "id": "LeSQuz9FSmPK"
      },
      "source": [
        "3.write a program to check string is palindrome or not in python\n"
      ]
    },
    {
      "cell_type": "code",
      "execution_count": null,
      "metadata": {
        "colab": {
          "base_uri": "https://localhost:8080/"
        },
        "id": "bduy-TthSmwv",
        "outputId": "42510274-1d78-4de9-bd78-a4bb13fb6247"
      },
      "outputs": [
        {
          "output_type": "stream",
          "name": "stdout",
          "text": [
            "enter string :mallam\n",
            "Yes\n"
          ]
        }
      ],
      "source": [
        "def isPalindrome(s):\n",
        "    return s == s[::-1]\n",
        "s = input(\"enter string :\")\n",
        "ans = isPalindrome(s)\n",
        "\n",
        "if ans:\n",
        "    print(\"Yes\")\n",
        "else:\n",
        "    print(\"No\")"
      ]
    },
    {
      "cell_type": "markdown",
      "metadata": {
        "id": "xMMdYeaYS7QS"
      },
      "source": [
        "4. Given string are anagrams or not"
      ]
    },
    {
      "cell_type": "code",
      "execution_count": null,
      "metadata": {
        "colab": {
          "base_uri": "https://localhost:8080/"
        },
        "id": "VcAWrsFDS709",
        "outputId": "be0668da-166e-48f7-81c8-e448e0e337c3"
      },
      "outputs": [
        {
          "name": "stdout",
          "output_type": "stream",
          "text": [
            "this both string are anagrams \n"
          ]
        }
      ],
      "source": [
        "def anagram1(s1,s2):\n",
        "\n",
        "    if(sorted(s1)==sorted(s2)):\n",
        "           print(\"this both string are anagrams \")\n",
        "    else:\n",
        "          print(\"this both string are not anagrams\")\n",
        "\n",
        "s1=\"listen\"\n",
        "s2=\"silent\"\n",
        "anagram1(s1,s2)"
      ]
    },
    {
      "cell_type": "markdown",
      "metadata": {
        "id": "p1R6sEU2Y_sD"
      },
      "source": [
        "5.Write code to find all occurances of given substring within another string"
      ]
    },
    {
      "cell_type": "code",
      "execution_count": null,
      "metadata": {
        "id": "e7m7dxEXZcTP",
        "colab": {
          "base_uri": "https://localhost:8080/"
        },
        "outputId": "62a06a57-8100-4333-b82a-5887a6c4e178"
      },
      "outputs": [
        {
          "output_type": "stream",
          "name": "stdout",
          "text": [
            "enter string :hello my hellow ith hello\n",
            "enter sub-string :hello\n",
            "[0, 9, 20]\n"
          ]
        }
      ],
      "source": [
        "s1=input(\"enter string :\")\n",
        "s2=input(\"enter sub-string :\")\n",
        "res=[i for i in range(len(s1)) if s1.startswith(s2,i)]\n",
        "print(res)\n"
      ]
    },
    {
      "cell_type": "markdown",
      "source": [
        "6.Write a code to perform basic string compression using the counts of repeated character"
      ],
      "metadata": {
        "id": "Ybqc9z7UugFP"
      }
    },
    {
      "cell_type": "code",
      "source": [
        "from itertools import groupby\n",
        "def encode_str(input_str):\n",
        "  return [(len(list(n)),m) for m,n in groupby(input_str)]\n",
        "\n",
        "str1=input(\"enter string :\")\n",
        "print(\"original string :\",str1)\n",
        "print(\"result is :\",encode_str(str1))"
      ],
      "metadata": {
        "id": "hqeglIXduqK_",
        "colab": {
          "base_uri": "https://localhost:8080/"
        },
        "outputId": "017fb469-a09b-4660-e963-332a29bab962"
      },
      "execution_count": null,
      "outputs": [
        {
          "output_type": "stream",
          "name": "stdout",
          "text": [
            "enter string :asssdfggh\n",
            "original string : asssdfggh\n",
            "result is : [(1, 'a'), (3, 's'), (1, 'd'), (1, 'f'), (2, 'g'), (1, 'h')]\n"
          ]
        }
      ]
    },
    {
      "cell_type": "markdown",
      "source": [
        "7. write a code to determine string has unique character"
      ],
      "metadata": {
        "id": "WkbEnDfetI4w"
      }
    },
    {
      "cell_type": "code",
      "source": [
        "string=input(\"enter string :\")\n",
        "if len(str)==len(set(str)):\n",
        "  print(\"unique\")\n",
        "else:\n",
        "  print(\"not unique\")"
      ],
      "metadata": {
        "colab": {
          "base_uri": "https://localhost:8080/"
        },
        "id": "_DhLOlnntM_m",
        "outputId": "15be05cf-37c5-4b71-b821-a0626ce2a42e"
      },
      "execution_count": null,
      "outputs": [
        {
          "output_type": "stream",
          "name": "stdout",
          "text": [
            "enter string :kkrinsi\n",
            "not unique\n"
          ]
        }
      ]
    },
    {
      "cell_type": "markdown",
      "metadata": {
        "id": "wB2K5nAoUAEI"
      },
      "source": [
        "8. Write a code to convert string in uppercase and lowercase"
      ]
    },
    {
      "cell_type": "code",
      "execution_count": null,
      "metadata": {
        "colab": {
          "base_uri": "https://localhost:8080/"
        },
        "id": "LqM4VAW5S-hx",
        "outputId": "90fd9ca8-883a-4e8f-fe95-237578c5125d"
      },
      "outputs": [
        {
          "name": "stdout",
          "output_type": "stream",
          "text": [
            "PWSKILL\n",
            "pwskill\n"
          ]
        }
      ],
      "source": [
        "str1=\"pwskill\"\n",
        "str2=\"PWSKILL\"\n",
        "a1=str1.upper()\n",
        "a2=str2.lower()\n",
        "print(a1)\n",
        "print(a2)"
      ]
    },
    {
      "cell_type": "markdown",
      "metadata": {
        "id": "me9tawcPUj3R"
      },
      "source": [
        "9. write a code to count no. of words in string"
      ]
    },
    {
      "cell_type": "code",
      "execution_count": null,
      "metadata": {
        "colab": {
          "base_uri": "https://localhost:8080/"
        },
        "id": "dddJJ8w8Upnw",
        "outputId": "7b28a07e-bba1-4908-b7f1-bea03e9a661e"
      },
      "outputs": [
        {
          "name": "stdout",
          "output_type": "stream",
          "text": [
            "20\n"
          ]
        }
      ],
      "source": [
        "str=\"welcome in the world\"\n",
        "count=0\n",
        "for i in str:\n",
        "  if(len(str)!=0):\n",
        "    count=count+1\n",
        "print(count)"
      ]
    },
    {
      "cell_type": "code",
      "execution_count": null,
      "metadata": {
        "colab": {
          "base_uri": "https://localhost:8080/"
        },
        "id": "x11JeCTMUw7K",
        "outputId": "03f649d8-8785-4b52-e5ad-44039f394b67"
      },
      "outputs": [
        {
          "name": "stdout",
          "output_type": "stream",
          "text": [
            "4\n"
          ]
        }
      ],
      "source": [
        "str=\"welcome in the world\"\n",
        "s1=str.split()\n",
        "count=len(s1)\n",
        "print(count)"
      ]
    },
    {
      "cell_type": "markdown",
      "metadata": {
        "id": "WevjlIUHXCdx"
      },
      "source": [
        "10. write a code to concate 2 string without the use of + operator."
      ]
    },
    {
      "cell_type": "code",
      "execution_count": null,
      "metadata": {
        "colab": {
          "base_uri": "https://localhost:8080/"
        },
        "id": "P8PyiGWIWlUe",
        "outputId": "153258e6-c9ca-4504-e18c-a7d912a3c301"
      },
      "outputs": [
        {
          "name": "stdout",
          "output_type": "stream",
          "text": [
            "hellopwskill\n"
          ]
        }
      ],
      "source": [
        "s1=\"hello\"\n",
        "s2=\"pwskill\"\n",
        "s3=\"\"\n",
        "for i in s1:\n",
        "  s3=s3+i\n",
        "for j in s2:\n",
        "  s3=s3+j\n",
        "print(s3)"
      ]
    },
    {
      "cell_type": "markdown",
      "metadata": {
        "id": "aVF1HeJSZ164"
      },
      "source": [
        "11. write a code to remove all occurances of a specific element from a list"
      ]
    },
    {
      "cell_type": "code",
      "execution_count": null,
      "metadata": {
        "colab": {
          "base_uri": "https://localhost:8080/"
        },
        "id": "Bojr-_tMb9rH",
        "outputId": "314e7db2-af5e-4536-8187-fdce825d0ca7"
      },
      "outputs": [
        {
          "name": "stdout",
          "output_type": "stream",
          "text": [
            "[1, 2, 3, 4, 5, 6, 7, 6, 7]\n"
          ]
        }
      ],
      "source": [
        "def remove_occurances(original,element):\n",
        "  return [i for i in original if(original!=element)]\n",
        "\n",
        "org=[1,2,3,4,5,6,7,6,7]\n",
        "new_ele=2\n",
        "result=remove_occurances(org,new_ele)\n",
        "print(result)"
      ]
    },
    {
      "cell_type": "markdown",
      "metadata": {
        "id": "ZUD_HM82cvGH"
      },
      "source": [
        "12. write a code to find second largest number in list of int type"
      ]
    },
    {
      "cell_type": "code",
      "execution_count": null,
      "metadata": {
        "colab": {
          "base_uri": "https://localhost:8080/"
        },
        "id": "FR49yetTcY2k",
        "outputId": "9b92ac46-0810-456c-a85b-5e19db97b9cf"
      },
      "outputs": [
        {
          "name": "stdout",
          "output_type": "stream",
          "text": [
            "68\n"
          ]
        }
      ],
      "source": [
        "l1=[110,34,27,68,9,45]\n",
        "l1.sort()\n",
        "print(l1[-2])"
      ]
    },
    {
      "cell_type": "markdown",
      "source": [
        "13. Create code to count the occurances of each element in a list and return a dictionary with elements as key and their counts as value"
      ],
      "metadata": {
        "id": "v_TjcHlnwO3s"
      }
    },
    {
      "cell_type": "code",
      "source": [
        "list=[2,4,55,3,12,4,2,2,4,4,2,4,55]\n",
        "dic={}\n",
        "for i in list:\n",
        "  if i in dic:\n",
        "    dic[i]+=1\n",
        "  else:\n",
        "    dic[i]=1\n",
        "print(dic)"
      ],
      "metadata": {
        "colab": {
          "base_uri": "https://localhost:8080/"
        },
        "id": "UGe9N-wawdQ1",
        "outputId": "f0f4ed99-6a24-4d48-c98c-4a97b4bbfc83"
      },
      "execution_count": null,
      "outputs": [
        {
          "output_type": "stream",
          "name": "stdout",
          "text": [
            "{2: 4, 4: 5, 55: 2, 3: 1, 12: 1}\n"
          ]
        }
      ]
    },
    {
      "cell_type": "markdown",
      "metadata": {
        "id": "yPsd3NM3eVQI"
      },
      "source": [
        "14. write a code to reverse list without the use of in-built function"
      ]
    },
    {
      "cell_type": "code",
      "execution_count": null,
      "metadata": {
        "colab": {
          "base_uri": "https://localhost:8080/"
        },
        "id": "LVveospHdIVM",
        "outputId": "0b6da663-4be7-4a89-abd2-397dc444ab93"
      },
      "outputs": [
        {
          "output_type": "stream",
          "name": "stdout",
          "text": [
            "[45, 9, 68, 27, 34, 110]\n"
          ]
        }
      ],
      "source": [
        "l1=[110,34,27,68,9,45]\n",
        "list1=l1[::-1]\n",
        "print(list1)"
      ]
    },
    {
      "cell_type": "markdown",
      "source": [
        "15.Implement a code to find and remove duplicates from a list while preserving the original order of elements."
      ],
      "metadata": {
        "id": "_PP4QOlvojP3"
      }
    },
    {
      "cell_type": "code",
      "source": [
        "def remove_duplicates(input_list):\n",
        "  seen = set()\n",
        "  return [i for i in input_list if not (i in seen or seen.add(i))]\n",
        "\n",
        "original_list = [1, 2, 3, 2, 1, 4, 5, 3, 6]\n",
        "print(remove_duplicates(original_list))\n"
      ],
      "metadata": {
        "colab": {
          "base_uri": "https://localhost:8080/"
        },
        "id": "CRPeIMC6ok7V",
        "outputId": "1413c57a-a381-4ef6-d9ab-4e9e6b748fca"
      },
      "execution_count": null,
      "outputs": [
        {
          "output_type": "stream",
          "name": "stdout",
          "text": [
            "[1, 2, 3, 4, 5, 6]\n"
          ]
        }
      ]
    },
    {
      "cell_type": "markdown",
      "source": [
        "16. write a code to check whether given list is sorted or not"
      ],
      "metadata": {
        "id": "a2KnT2xTfjrf"
      }
    },
    {
      "cell_type": "code",
      "execution_count": null,
      "metadata": {
        "id": "7prRGemPerBa",
        "colab": {
          "base_uri": "https://localhost:8080/"
        },
        "outputId": "120c604a-9d90-48f5-cc4c-c81708442638"
      },
      "outputs": [
        {
          "output_type": "stream",
          "name": "stdout",
          "text": [
            "List is not sorted\n"
          ]
        }
      ],
      "source": [
        "l1=[110,34,27,68,9,45]\n",
        "if(l1==sorted(l1)):\n",
        "  print(\"List is sorted\")\n",
        "else:\n",
        "  print(\"List is not sorted\")"
      ]
    },
    {
      "cell_type": "markdown",
      "source": [
        "17. write a code to merge 2 sorted list into single soretd list"
      ],
      "metadata": {
        "id": "o04Pd5PkgFHW"
      }
    },
    {
      "cell_type": "code",
      "source": [
        "l1=[23,56,87,23,90]\n",
        "l2=[34,65,12,78,96]\n",
        "l1_sort=sorted(l1)\n",
        "l2_sort=sorted(l2)\n",
        "l3=l1_sort+l2_sort\n",
        "print(l3)"
      ],
      "metadata": {
        "colab": {
          "base_uri": "https://localhost:8080/"
        },
        "id": "T7BnQMTQf83W",
        "outputId": "d5c419ac-7c3d-4735-e2e4-51c498e814f5"
      },
      "execution_count": null,
      "outputs": [
        {
          "output_type": "stream",
          "name": "stdout",
          "text": [
            "[23, 23, 56, 87, 90, 12, 34, 65, 78, 96]\n"
          ]
        }
      ]
    },
    {
      "cell_type": "markdown",
      "source": [
        "18. Implemet a code to find a intersection of two given lists."
      ],
      "metadata": {
        "id": "RsXihf6hgsL3"
      }
    },
    {
      "cell_type": "code",
      "source": [
        "def intersection(l1,l2):\n",
        "  for i in l1:\n",
        "    for j in l2:\n",
        "      if(i==j):\n",
        "        print(i)\n",
        "\n",
        "l1=[1,2,3,4,5]\n",
        "l2=[4,5,6,7,8]\n",
        "result=intersection(l1,l2)"
      ],
      "metadata": {
        "colab": {
          "base_uri": "https://localhost:8080/"
        },
        "id": "9joNTR1RjzGe",
        "outputId": "832c470f-6ae2-495b-ce83-bdee173fa25a"
      },
      "execution_count": null,
      "outputs": [
        {
          "output_type": "stream",
          "name": "stdout",
          "text": [
            "4\n",
            "5\n"
          ]
        }
      ]
    },
    {
      "cell_type": "markdown",
      "source": [
        "19.write a code to find union of 2 list without duplicates."
      ],
      "metadata": {
        "id": "AbEfi9kSkeQ_"
      }
    },
    {
      "cell_type": "code",
      "source": [
        "def union(l1,l2):\n",
        "  result=l1+l2\n",
        "  unique=list(set(result))\n",
        "  print(unique)\n",
        "\n",
        "l1=[1,2,3,4,5]\n",
        "l2=[4,5,6,7,8]\n",
        "final_union=union(l1,l2)"
      ],
      "metadata": {
        "colab": {
          "base_uri": "https://localhost:8080/"
        },
        "id": "6hiUbmvKkQXS",
        "outputId": "c21e3382-6bab-44be-f054-1ab26a56ecfc"
      },
      "execution_count": null,
      "outputs": [
        {
          "output_type": "stream",
          "name": "stdout",
          "text": [
            "[1, 2, 3, 4, 5, 6, 7, 8]\n"
          ]
        }
      ]
    },
    {
      "cell_type": "markdown",
      "source": [
        "20. write a code to shuffle a given list randomly without using any built-in shuffle function.\n"
      ],
      "metadata": {
        "id": "AqOvIXFDxuIX"
      }
    },
    {
      "cell_type": "code",
      "source": [
        "l1=[2,3,4,5,6,7,8,9]\n",
        "import random\n",
        "random.shuffle(l1)\n",
        "print(l1)"
      ],
      "metadata": {
        "colab": {
          "base_uri": "https://localhost:8080/"
        },
        "id": "nPZj0j-ex5P9",
        "outputId": "92335508-4ebc-463f-d9b1-f23f54036b8e"
      },
      "execution_count": null,
      "outputs": [
        {
          "output_type": "stream",
          "name": "stdout",
          "text": [
            "[3, 4, 8, 9, 7, 5, 6, 2]\n"
          ]
        }
      ]
    },
    {
      "cell_type": "markdown",
      "source": [
        "21.Write a code that takes two tuple as input and return a new tuple containg that are common to both input tuples"
      ],
      "metadata": {
        "id": "AyoSDW4RyTpO"
      }
    },
    {
      "cell_type": "code",
      "source": [
        "t1=(2,5,6,7,8,9)\n",
        "t2=(4,5,8,9)\n",
        "result=tuple(set(t1)&set(t2))\n",
        "print(result)"
      ],
      "metadata": {
        "colab": {
          "base_uri": "https://localhost:8080/"
        },
        "id": "iGxtnCtZyi6z",
        "outputId": "cb9e0710-5167-4bd7-da4e-a024acbf8e03"
      },
      "execution_count": null,
      "outputs": [
        {
          "output_type": "stream",
          "name": "stdout",
          "text": [
            "(8, 9, 5)\n"
          ]
        }
      ]
    },
    {
      "cell_type": "markdown",
      "source": [
        "22. create a code that prompts the user to enter two sets of integers separated b y commas.then print the intersection of that two sets"
      ],
      "metadata": {
        "id": "Z5DKLg13y1DV"
      }
    },
    {
      "cell_type": "code",
      "source": [
        "t1=(\"enter first set of integers\")\n",
        "t2=(\"enter second set of integers\")\n",
        "t1=set(map(int,input().split(',')))\n",
        "t2=set(map(int,input().split(',')))\n",
        "t3 = t1.intersection(t2)\n",
        "print(t3)"
      ],
      "metadata": {
        "colab": {
          "base_uri": "https://localhost:8080/"
        },
        "id": "53edDb-FzIHT",
        "outputId": "5e595098-af94-4ca7-8ed2-5317083538d7"
      },
      "execution_count": null,
      "outputs": [
        {
          "output_type": "stream",
          "name": "stdout",
          "text": [
            "3,7,9,6,2\n",
            "5,9,8,7,6\n",
            "{9, 6, 7}\n"
          ]
        }
      ]
    },
    {
      "cell_type": "markdown",
      "source": [
        "question 23. Write a code to concatenate two tuples. The function should take two tuples as input and return a new tuple containing elements from both input tuples."
      ],
      "metadata": {
        "id": "w898y7jXBc1P"
      }
    },
    {
      "cell_type": "code",
      "source": [
        "def concate_tuple(t1,t2):\n",
        "  return t1+t2\n",
        "\n",
        "t1=(2,5,7)\n",
        "t2=(4,5,8)\n",
        "result=concate_tuple(t1,t2)\n",
        "print(result)"
      ],
      "metadata": {
        "colab": {
          "base_uri": "https://localhost:8080/"
        },
        "id": "aJdXiI_CBfNS",
        "outputId": "e76d851e-adb0-49b0-f903-d5c6f85a230b"
      },
      "execution_count": null,
      "outputs": [
        {
          "output_type": "stream",
          "name": "stdout",
          "text": [
            "(2, 5, 7, 4, 5, 8)\n"
          ]
        }
      ]
    },
    {
      "cell_type": "markdown",
      "source": [
        "24. Develop a code that prompts the user to input two sets of strings. Then, print the elements that are present in the first set but not in the second set."
      ],
      "metadata": {
        "id": "kYMEGjJCB-rT"
      }
    },
    {
      "cell_type": "code",
      "source": [
        "t1=(\"enter first set of string\")\n",
        "t2=(\"enter second set of string\")\n",
        "t1=set(map(str,input().split(',')))\n",
        "t2=set(map(str,input().split(',')))\n",
        "t3=t1.difference(t2)\n",
        "print(t3)"
      ],
      "metadata": {
        "colab": {
          "base_uri": "https://localhost:8080/"
        },
        "id": "SKF-y0XOB7Le",
        "outputId": "218fa6b8-d613-4c37-b3f7-a8851dd160bf"
      },
      "execution_count": null,
      "outputs": [
        {
          "output_type": "stream",
          "name": "stdout",
          "text": [
            "kissu\n",
            "krinsi\n",
            "{'kissu'}\n"
          ]
        }
      ]
    },
    {
      "cell_type": "markdown",
      "source": [
        "25. Create a code that takes a tuple and two integers as input. The function should return a new tuple containing elements from the original tuple within the specified range of indices."
      ],
      "metadata": {
        "id": "z9aaOVr7Ctl5"
      }
    },
    {
      "cell_type": "code",
      "source": [
        "\n",
        "def extract_elements(t, start, end):\n",
        "  # Extract elements from the specified range\n",
        "  new_tuple = t[start:end+1]\n",
        "  return new_tuple\n",
        "\n",
        "t = (1, 2, 3, 4, 5, 6, 7, 8, 9)\n",
        "print(t)\n",
        "start = int(input(\"enter the start index : \"))\n",
        "end = int(input(\"enter the end index : \"))\n",
        "result = extract_elements(t, start, end)\n",
        "print(result)"
      ],
      "metadata": {
        "colab": {
          "base_uri": "https://localhost:8080/"
        },
        "id": "ly3eHn1UDZ2V",
        "outputId": "84d4bea2-ef5f-45a3-e30f-52ff166694ff"
      },
      "execution_count": null,
      "outputs": [
        {
          "output_type": "stream",
          "name": "stdout",
          "text": [
            "(1, 2, 3, 4, 5, 6, 7, 8, 9)\n",
            "enter the start index : 1\n",
            "enter the end index : 8\n",
            "(2, 3, 4, 5, 6, 7, 8, 9)\n"
          ]
        }
      ]
    },
    {
      "cell_type": "markdown",
      "source": [
        "26. Write a code that prompts the user to input two sets of characters. Then, print the union of these two sets."
      ],
      "metadata": {
        "id": "Rr4azul3PFvO"
      }
    },
    {
      "cell_type": "code",
      "source": [
        "\n",
        "s1 =input(\"enter the set of characters : \")\n",
        "s2 =input(\"enter the set of characters : \")\n",
        "s1 = set(s1.split(','))\n",
        "s2 = set(s2.split(','))\n",
        "s3 = s1.union(s2)\n",
        "print(s3)\n"
      ],
      "metadata": {
        "colab": {
          "base_uri": "https://localhost:8080/"
        },
        "id": "4Nr9IohjD9iT",
        "outputId": "b83fd4fd-c7ca-4726-fd59-856392adbd75"
      },
      "execution_count": null,
      "outputs": [
        {
          "output_type": "stream",
          "name": "stdout",
          "text": [
            "enter the set of characters : h,k,i,l\n",
            "enter the set of characters : i,k,e,r\n",
            "{'i', 'r', 'h', 'e', 'k', 'l'}\n"
          ]
        }
      ]
    },
    {
      "cell_type": "markdown",
      "source": [
        "27. Develop a code that takes a tuple of integers as input. The function should return the maximum and minimum values from the tuple using tuple unpacking."
      ],
      "metadata": {
        "id": "PQQMU9L6Pfrf"
      }
    },
    {
      "cell_type": "code",
      "source": [
        "def find_min(t1):\n",
        "  min_value=min(t1)\n",
        "  return min_value\n",
        "\n",
        "def find_max(t1):\n",
        "  max_value=max(t1)\n",
        "  return max_value\n",
        "\n",
        "t1=tuple(map(int,input().split(',')))\n",
        "min_value=find_min(t1)\n",
        "max_value=find_max(t1)\n",
        "print(min_value)\n",
        "print(max_value)"
      ],
      "metadata": {
        "colab": {
          "base_uri": "https://localhost:8080/"
        },
        "id": "Az0N8O5mPO8M",
        "outputId": "d9bd60f1-b060-4076-b264-97a7bbaea3f9"
      },
      "execution_count": null,
      "outputs": [
        {
          "output_type": "stream",
          "name": "stdout",
          "text": [
            "2,4,6\n",
            "2\n",
            "6\n"
          ]
        }
      ]
    },
    {
      "cell_type": "markdown",
      "source": [
        "28. Create a code that defines two sets of integers. Then, print the union, intersection, and difference of these two sets."
      ],
      "metadata": {
        "id": "R7cDxr2BSepm"
      }
    },
    {
      "cell_type": "code",
      "source": [
        "s1= input(\"enter the set of integers : \")\n",
        "s2= input(\"enter the set of integers : \")\n",
        "s1 = set(s1.split(','))\n",
        "s2 = set(s2.split(','))\n",
        "print(s1.union(s2))\n",
        "print(s1.intersection(s2))\n",
        "print(s1.difference(s2))"
      ],
      "metadata": {
        "colab": {
          "base_uri": "https://localhost:8080/"
        },
        "id": "hYjzY1bPSFmw",
        "outputId": "d5094f14-85aa-48d9-f1c3-711f0dc28c0f"
      },
      "execution_count": null,
      "outputs": [
        {
          "output_type": "stream",
          "name": "stdout",
          "text": [
            "enter the set of integers : 2,5,7,8\n",
            "enter the set of integers : 3,5,2,1\n",
            "{'7', '5', '1', '2', '3', '8'}\n",
            "{'5', '2'}\n",
            "{'7', '8'}\n"
          ]
        }
      ]
    },
    {
      "cell_type": "markdown",
      "source": [
        "29. Write a code that takes a tuple and an element as input. The function should return the count of occurrences of the given element in the tuple.\n"
      ],
      "metadata": {
        "id": "5WIBeTScTPVX"
      }
    },
    {
      "cell_type": "code",
      "source": [
        "def count_occurances(t1):\n",
        "  count=0\n",
        "  for i in t1:\n",
        "    if(i==element):\n",
        "      count+=1\n",
        "  return count\n",
        "\n",
        "\n",
        "t1= input(\"enter the tuple of integers : \")\n",
        "element=input(\"enter the element : \")\n",
        "result=count_occurances(t1)\n",
        "print(result)"
      ],
      "metadata": {
        "colab": {
          "base_uri": "https://localhost:8080/"
        },
        "id": "eOJEsE4-SzeP",
        "outputId": "ea071da0-daa6-4344-cdf1-cd97530bcad3"
      },
      "execution_count": null,
      "outputs": [
        {
          "output_type": "stream",
          "name": "stdout",
          "text": [
            "enter the tuple of integers : 2,3,1,2\n",
            "enter the element : 2\n",
            "2\n"
          ]
        }
      ]
    },
    {
      "cell_type": "markdown",
      "source": [
        "30. Develop a code that prompts the user to input two sets of strings. Then, print the symmetric difference of these two sets."
      ],
      "metadata": {
        "id": "0SexB7KUUVwG"
      }
    },
    {
      "cell_type": "code",
      "source": [
        "t1=(\"enter first set of string\")\n",
        "t2=(\"enter second set of string\")\n",
        "t1=set(map(str,input().split(',')))\n",
        "t2=set(map(str,input().split(',')))\n",
        "t3=t1.symmetric_difference(t2)\n",
        "print(t3)\n"
      ],
      "metadata": {
        "colab": {
          "base_uri": "https://localhost:8080/"
        },
        "id": "e4fEUf1_Ub7y",
        "outputId": "e69a4ab7-aed9-416b-9d57-eb5219ed6d84"
      },
      "execution_count": null,
      "outputs": [
        {
          "output_type": "stream",
          "name": "stdout",
          "text": [
            "3,4,5,6\n",
            "5,6,7,8\n",
            "{'7', '3', '4', '8'}\n"
          ]
        }
      ]
    },
    {
      "cell_type": "markdown",
      "source": [
        "31. Write a code that takes a list of words as input and returns a dictionary where the keys are unique words and the values are the frequencies of those words in the input list."
      ],
      "metadata": {
        "id": "hY5HADahVJe_"
      }
    },
    {
      "cell_type": "code",
      "source": [
        "l1=input(\"enter 1st string :\")\n",
        "l1=l1.split(',')\n",
        "dic={}\n",
        "for i in l1:\n",
        "  if i in dic:\n",
        "    dic[i]=dic[i]+1\n",
        "  else:\n",
        "    dic[i]=1\n",
        "print(dic)"
      ],
      "metadata": {
        "colab": {
          "base_uri": "https://localhost:8080/"
        },
        "id": "V8S7Sw0GVClY",
        "outputId": "73291293-414a-459a-9503-140df7117c86"
      },
      "execution_count": null,
      "outputs": [
        {
          "output_type": "stream",
          "name": "stdout",
          "text": [
            "enter 1st string :r,y,u\n",
            "{'r': 1, 'y': 1, 'u': 1}\n"
          ]
        }
      ]
    },
    {
      "cell_type": "markdown",
      "source": [
        "32. Write a code that takes two dictionaries as input and merges them into a single dictionary. If there are common keys, the values should be added together."
      ],
      "metadata": {
        "id": "kw_caSYdX65S"
      }
    },
    {
      "cell_type": "code",
      "source": [
        "def merge_dicts(dict1, dict2):\n",
        "    merged_dict = {}\n",
        "    for key, value in dict1.items():\n",
        "        if key in merged_dict:\n",
        "            merged_dict[key] += value\n",
        "        else:\n",
        "            merged_dict[key] = value\n",
        "    for key, value in dict2.items():\n",
        "        if key in merged_dict:\n",
        "            merged_dict[key] += value\n",
        "        else:\n",
        "            merged_dict[key] = value\n",
        "\n",
        "    return merged_dict\n",
        "\n",
        "dict1 = {'a': 1, 'b': 2, 'c': 3}\n",
        "dict2 = {'b': 3, 'c': 4, 'd': 5}\n",
        "\n",
        "merged = merge_dicts(dict1, dict2)\n",
        "print(merged)"
      ],
      "metadata": {
        "colab": {
          "base_uri": "https://localhost:8080/"
        },
        "id": "vVy9UUUSX8FY",
        "outputId": "9d0a9c73-7d68-4cc6-9196-5f0e519a202d"
      },
      "execution_count": 5,
      "outputs": [
        {
          "output_type": "stream",
          "name": "stdout",
          "text": [
            "{'a': 1, 'b': 5, 'c': 7, 'd': 5}\n"
          ]
        }
      ]
    },
    {
      "cell_type": "markdown",
      "source": [
        "33. Write a code to access a value in a nested dictionary. The function should take the dictionary and a list of keys as input, and return the corresponding value. If any of the keys do not exist in the dictionary, the function should return None."
      ],
      "metadata": {
        "id": "1fDnGLPCtXPw"
      }
    },
    {
      "cell_type": "code",
      "source": [
        "\n",
        "def access_nested_dict(nested_dict, keys):\n",
        "  current_dict = nested_dict\n",
        "\n",
        "  for key in keys:\n",
        "    if key in current_dict:\n",
        "      current_dict = current_dict[key]\n",
        "    else:\n",
        "      return None\n",
        "\n",
        "  return current_dict\n",
        "\n",
        "d1 = {'a': {'b': {'c': 12 }}}\n",
        "keys = ['a', 'b', 'c']\n",
        "value = access_nested_dict(d1, keys)\n",
        "print(value)\n",
        "\n",
        "keyss = ['a', 'r', 'c']\n",
        "value1 = access_nested_dict(d1, keyss)\n",
        "print(value1)"
      ],
      "metadata": {
        "colab": {
          "base_uri": "https://localhost:8080/"
        },
        "id": "7CzyXeZItaD_",
        "outputId": "4fbd0596-d040-41f0-9fb8-13d842f1761f"
      },
      "execution_count": 3,
      "outputs": [
        {
          "output_type": "stream",
          "name": "stdout",
          "text": [
            "12\n",
            "None\n"
          ]
        }
      ]
    },
    {
      "cell_type": "markdown",
      "source": [
        "34. Write a code that takes a dictionary as input and returns a sorted version of it based on the values. You can choose whether to sort in ascending or descending order."
      ],
      "metadata": {
        "id": "x5O-LpdFWgqN"
      }
    },
    {
      "cell_type": "code",
      "source": [
        "d1={'a':10,'b':40,'c':30}\n",
        "d2=dict(sorted(d1.items(),key=lambda x:x[1]))\n",
        "print(d2)"
      ],
      "metadata": {
        "colab": {
          "base_uri": "https://localhost:8080/"
        },
        "id": "fiIxPiPqWLC8",
        "outputId": "2296925f-5fc7-4022-af9b-e963129c6512"
      },
      "execution_count": null,
      "outputs": [
        {
          "output_type": "stream",
          "name": "stdout",
          "text": [
            "{'a': 10, 'c': 30, 'b': 40}\n"
          ]
        }
      ]
    },
    {
      "cell_type": "markdown",
      "source": [
        "35. Write a code that inverts a dictionary, swapping keys and values. Ensure that the inverted dictionary correctly handles cases where multiple keys have the same value by storing the keys as a list in the inverted dictionary."
      ],
      "metadata": {
        "id": "zwCCZuiQxjHJ"
      }
    },
    {
      "cell_type": "code",
      "source": [
        "d1 = {'hemangi': 10, 'mitali': 2, 'krinsi':10}\n",
        "d2 = {}\n",
        "for key, value in d1.items():\n",
        "    if value in d2:\n",
        "        d2[value].append(key)\n",
        "    else:\n",
        "        d2[value] = [key]\n",
        "print(d2)\n"
      ],
      "metadata": {
        "id": "Diq6h2YzX0ri",
        "colab": {
          "base_uri": "https://localhost:8080/"
        },
        "outputId": "0eeab76f-130d-4a47-f3bb-6c64d387a2f5"
      },
      "execution_count": 4,
      "outputs": [
        {
          "output_type": "stream",
          "name": "stdout",
          "text": [
            "{10: ['hemangi', 'krinsi'], 2: ['mitali']}\n"
          ]
        }
      ]
    },
    {
      "cell_type": "code",
      "source": [],
      "metadata": {
        "id": "DvsFypwHxraK"
      },
      "execution_count": null,
      "outputs": []
    }
  ],
  "metadata": {
    "colab": {
      "provenance": []
    },
    "kernelspec": {
      "display_name": "Python 3",
      "name": "python3"
    },
    "language_info": {
      "name": "python"
    }
  },
  "nbformat": 4,
  "nbformat_minor": 0
}