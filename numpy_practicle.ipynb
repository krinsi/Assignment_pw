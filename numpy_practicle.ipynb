{
  "nbformat": 4,
  "nbformat_minor": 0,
  "metadata": {
    "colab": {
      "provenance": []
    },
    "kernelspec": {
      "name": "python3",
      "display_name": "Python 3"
    },
    "language_info": {
      "name": "python"
    }
  },
  "cells": [
    {
      "cell_type": "code",
      "execution_count": null,
      "metadata": {
        "id": "fzb7c9r1cJLU"
      },
      "outputs": [],
      "source": []
    },
    {
      "cell_type": "markdown",
      "source": [
        "# 1. Create a 3x3 NumPy array with random integers between 1 and 100. Then, interchange its rows and columns"
      ],
      "metadata": {
        "id": "UcU_9o18cZHC"
      }
    },
    {
      "cell_type": "code",
      "source": [
        "import numpy as np\n",
        "arr1=np.random.randint(1,100,(3,3))\n",
        "arr1"
      ],
      "metadata": {
        "colab": {
          "base_uri": "https://localhost:8080/"
        },
        "id": "-85FE6ORcbxl",
        "outputId": "4f78246a-fa9d-4348-9178-43ef5b742a94"
      },
      "execution_count": 2,
      "outputs": [
        {
          "output_type": "execute_result",
          "data": {
            "text/plain": [
              "array([[98, 61, 58],\n",
              "       [37, 39, 86],\n",
              "       [20, 58, 94]])"
            ]
          },
          "metadata": {},
          "execution_count": 2
        }
      ]
    },
    {
      "cell_type": "markdown",
      "source": [
        "# 2. Generate a 1D NumPy array with 10 elements. Reshape it into a 2x5 array, then into a 5x2 array.\n",
        "\n"
      ],
      "metadata": {
        "id": "Dc3Qax09dT60"
      }
    },
    {
      "cell_type": "code",
      "source": [
        "import numpy as np\n",
        "array_1d = np.arange(10)\n",
        "array_2x5 = np.reshape(array_1d, (2, 5))\n",
        "array_5x2 = np.reshape(array_1d, (5, 2))\n",
        "\n",
        "array_1d, array_2x5, array_5x2"
      ],
      "metadata": {
        "colab": {
          "base_uri": "https://localhost:8080/"
        },
        "id": "HRyvmDLed4VA",
        "outputId": "7d46eb53-7cc0-4e27-e85c-1284ea3c7a4d"
      },
      "execution_count": 3,
      "outputs": [
        {
          "output_type": "execute_result",
          "data": {
            "text/plain": [
              "(array([0, 1, 2, 3, 4, 5, 6, 7, 8, 9]),\n",
              " array([[0, 1, 2, 3, 4],\n",
              "        [5, 6, 7, 8, 9]]),\n",
              " array([[0, 1],\n",
              "        [2, 3],\n",
              "        [4, 5],\n",
              "        [6, 7],\n",
              "        [8, 9]]))"
            ]
          },
          "metadata": {},
          "execution_count": 3
        }
      ]
    },
    {
      "cell_type": "markdown",
      "source": [
        "# 3. Create a 4x4 NumPy array with random float values. Add a border of zeros around it, resulting in a 6x6 array"
      ],
      "metadata": {
        "id": "zlH4jPvKe2nV"
      }
    },
    {
      "cell_type": "code",
      "source": [
        "import numpy as np\n",
        "\n",
        "arr_4x4 = np.random.rand(4, 4)\n",
        "arr_6x6 = np.pad(arr_4x4, pad_width=1, mode='constant', constant_values=0)\n",
        "\n",
        "arr_4x4, arr_6x6"
      ],
      "metadata": {
        "colab": {
          "base_uri": "https://localhost:8080/"
        },
        "id": "DTwu4OkKfOPL",
        "outputId": "d9edbf47-5cfd-4e99-99ef-425470f22932"
      },
      "execution_count": 24,
      "outputs": [
        {
          "output_type": "execute_result",
          "data": {
            "text/plain": [
              "(array([[0.84073803, 0.84341928, 0.64459986, 0.39657653],\n",
              "        [0.92436043, 0.70506668, 0.79515278, 0.55346694],\n",
              "        [0.70636363, 0.33206968, 0.56883995, 0.8049944 ],\n",
              "        [0.21788267, 0.02008866, 0.96138123, 0.97909961]]),\n",
              " array([[0.        , 0.        , 0.        , 0.        , 0.        ,\n",
              "         0.        ],\n",
              "        [0.        , 0.84073803, 0.84341928, 0.64459986, 0.39657653,\n",
              "         0.        ],\n",
              "        [0.        , 0.92436043, 0.70506668, 0.79515278, 0.55346694,\n",
              "         0.        ],\n",
              "        [0.        , 0.70636363, 0.33206968, 0.56883995, 0.8049944 ,\n",
              "         0.        ],\n",
              "        [0.        , 0.21788267, 0.02008866, 0.96138123, 0.97909961,\n",
              "         0.        ],\n",
              "        [0.        , 0.        , 0.        , 0.        , 0.        ,\n",
              "         0.        ]]))"
            ]
          },
          "metadata": {},
          "execution_count": 24
        }
      ]
    },
    {
      "cell_type": "markdown",
      "source": [
        "# 4. Using NumPy, create an array of integers from 10 to 60 with a step of 5."
      ],
      "metadata": {
        "id": "JxWKx2ZJgUKe"
      }
    },
    {
      "cell_type": "markdown",
      "source": [],
      "metadata": {
        "id": "WRcOucADgPZf"
      }
    },
    {
      "cell_type": "code",
      "source": [
        "import numpy as np\n",
        "array = np.arange(10, 60, 5)\n",
        "array"
      ],
      "metadata": {
        "colab": {
          "base_uri": "https://localhost:8080/"
        },
        "id": "p_U3TS1bgPmm",
        "outputId": "6d3a9149-3bac-4e9c-f760-714dace2dcb2"
      },
      "execution_count": 6,
      "outputs": [
        {
          "output_type": "execute_result",
          "data": {
            "text/plain": [
              "array([10, 15, 20, 25, 30, 35, 40, 45, 50, 55])"
            ]
          },
          "metadata": {},
          "execution_count": 6
        }
      ]
    },
    {
      "cell_type": "markdown",
      "source": [
        "# 5. Create a NumPy array of strings ['python', 'numpy', 'pandas']. Apply different case transformations\n",
        "# (uppercase, lowercase, title case, etc.) to each element."
      ],
      "metadata": {
        "id": "afrrnGBLgfDM"
      }
    },
    {
      "cell_type": "code",
      "source": [
        "import numpy as np\n",
        "arr_str=np.array(['python','numpy','pandas'])\n",
        "uppercase_array = np.char.upper(arr_str)\n",
        "lowercas_array = np.char.lower(arr_str)\n",
        "titlecase_array = np.char.title(arr_str)\n",
        "arr_str,uppercase_array,lowercas_array,titlecase_array"
      ],
      "metadata": {
        "colab": {
          "base_uri": "https://localhost:8080/"
        },
        "id": "9YZvyYDQgi1M",
        "outputId": "e17244d9-c6db-4511-9efb-aadc353138a7"
      },
      "execution_count": 11,
      "outputs": [
        {
          "output_type": "execute_result",
          "data": {
            "text/plain": [
              "(array(['python', 'numpy', 'pandas'], dtype='<U6'),\n",
              " array(['PYTHON', 'NUMPY', 'PANDAS'], dtype='<U6'),\n",
              " array(['python', 'numpy', 'pandas'], dtype='<U6'),\n",
              " array(['Python', 'Numpy', 'Pandas'], dtype='<U6'))"
            ]
          },
          "metadata": {},
          "execution_count": 11
        }
      ]
    },
    {
      "cell_type": "markdown",
      "source": [
        "# 6. Generate a NumPy array of words. Insert a space between each character of every word in the array"
      ],
      "metadata": {
        "id": "DcEyGpaChswN"
      }
    },
    {
      "cell_type": "code",
      "source": [
        "import numpy as np\n",
        "\n",
        "words = np.array(['pwskill', 'Ajay', 'datascience'])\n",
        "spaced_words = np.char.join(' ', words)\n",
        "words\n",
        "spaced_words"
      ],
      "metadata": {
        "colab": {
          "base_uri": "https://localhost:8080/"
        },
        "id": "d121YqWchwZ8",
        "outputId": "1846f236-f1b2-4b6d-e256-49d0f0c17ac7"
      },
      "execution_count": 13,
      "outputs": [
        {
          "output_type": "execute_result",
          "data": {
            "text/plain": [
              "array(['p w s k i l l', 'A j a y', 'd a t a s c i e n c e'], dtype='<U21')"
            ]
          },
          "metadata": {},
          "execution_count": 13
        }
      ]
    },
    {
      "cell_type": "markdown",
      "source": [
        "## 7. Create two 2D NumPy arrays and perform element-wise addition, subtraction, multiplication, and division."
      ],
      "metadata": {
        "id": "2PHVzUYMiKVk"
      }
    },
    {
      "cell_type": "code",
      "source": [
        "import numpy as np\n",
        "array1 = np.array([[1, 2, 3], [4, 5, 6]])\n",
        "array2 = np.array([[7, 8, 9], [10, 11, 12]])\n",
        "array1,array2\n",
        "add=array1+array2\n",
        "sub=array1-array2\n",
        "mul=array1*array2\n",
        "div=array1/array2\n",
        "add,sub,mul,div"
      ],
      "metadata": {
        "colab": {
          "base_uri": "https://localhost:8080/"
        },
        "id": "EaFeG07Hh8Rn",
        "outputId": "ce7b0632-fe85-42df-bf1a-efe70cac153f"
      },
      "execution_count": 22,
      "outputs": [
        {
          "output_type": "execute_result",
          "data": {
            "text/plain": [
              "(array([[ 8, 10, 12],\n",
              "        [14, 16, 18]]),\n",
              " array([[-6, -6, -6],\n",
              "        [-6, -6, -6]]),\n",
              " array([[ 7, 16, 27],\n",
              "        [40, 55, 72]]),\n",
              " array([[0.14285714, 0.25      , 0.33333333],\n",
              "        [0.4       , 0.45454545, 0.5       ]]))"
            ]
          },
          "metadata": {},
          "execution_count": 22
        }
      ]
    },
    {
      "cell_type": "markdown",
      "source": [
        "# 8. Use NumPy to create a 5x5 identity matrix, then extract its diagonal elements."
      ],
      "metadata": {
        "id": "aumVyGn4jjqM"
      }
    },
    {
      "cell_type": "code",
      "source": [
        "import numpy as np\n",
        "identity_matrix = np.eye(5)\n",
        "diagonal_elements = np.diag(identity_matrix)\n",
        "identity_matrix, diagonal_elements"
      ],
      "metadata": {
        "colab": {
          "base_uri": "https://localhost:8080/"
        },
        "id": "VRz1leIaie-l",
        "outputId": "4fad66d4-09b4-4d2e-ed5c-70145689ecc3"
      },
      "execution_count": 25,
      "outputs": [
        {
          "output_type": "execute_result",
          "data": {
            "text/plain": [
              "(array([[1., 0., 0., 0., 0.],\n",
              "        [0., 1., 0., 0., 0.],\n",
              "        [0., 0., 1., 0., 0.],\n",
              "        [0., 0., 0., 1., 0.],\n",
              "        [0., 0., 0., 0., 1.]]),\n",
              " array([1., 1., 1., 1., 1.]))"
            ]
          },
          "metadata": {},
          "execution_count": 25
        }
      ]
    },
    {
      "cell_type": "markdown",
      "source": [
        "# 9. Generate a NumPy array of 100 random integers between 0 and 1000. Find and display all prime numbers in this array."
      ],
      "metadata": {
        "id": "jIX8fRTNkfTd"
      }
    },
    {
      "cell_type": "code",
      "source": [
        "import numpy as np\n",
        "arr1=np.random.randint(0,1000,100)\n",
        "arr1\n",
        "for num in arr1:\n",
        "    if num > 1:\n",
        "        for i in range(2, int(num ** 0.5) + 1):\n",
        "            if num % i == 0:\n",
        "                break\n",
        "\n",
        "primes = [num for num in array if is_prime(num)]\n",
        "print(\"Array:\", arr1)\n",
        "print(\"Prime numbers:\", primes)\n"
      ],
      "metadata": {
        "colab": {
          "base_uri": "https://localhost:8080/"
        },
        "id": "z8ETZKhPkWLo",
        "outputId": "a8d63266-021c-4ec9-f8c4-04f6049840e6"
      },
      "execution_count": 30,
      "outputs": [
        {
          "output_type": "stream",
          "name": "stdout",
          "text": [
            "Array: [232 441 128  50 445 389 606  48 523 961 335 675 413 728 324  81  19 465\n",
            " 242  62 547 179 765 136 824 535 956 351 838 612 400 445 934  68   7 802\n",
            " 865 423 699 208   2 358 482 106 565 590 490 244 895  16 784 431 475 785\n",
            " 730 658  49 854 267 760 627 439 853 549 538 484 247 203 190 234 734 856\n",
            " 533 667 874 410 363 654 121 769 945 410 612  82 522 483 262 359 127 807\n",
            " 209 114 903 340  94 839 800 646 171 240]\n",
            "Prime numbers: [857, 431, 359, 347, 149, 811, 43, 677, 337, 433, 701, 223]\n"
          ]
        }
      ]
    },
    {
      "cell_type": "markdown",
      "source": [
        "# 10. Create a NumPy array representing daily temperatures for a month. Calculate and display the weekly averages."
      ],
      "metadata": {
        "id": "r6RcEZB9ln-E"
      }
    },
    {
      "cell_type": "code",
      "source": [
        "import numpy as np\n",
        "temp = np.random.uniform(low=-10, high=35, size=30)\n",
        "temp_reshaped = temp.reshape(5,6)\n",
        "weekly_averages = temp_reshaped.mean(axis=1)\n",
        "print(\"Daily temperatures:\", temp)\n",
        "print(\"Weekly averages:\", weekly_averages)\n"
      ],
      "metadata": {
        "colab": {
          "base_uri": "https://localhost:8080/"
        },
        "id": "EzkzqNTelG3O",
        "outputId": "d53c8ff5-9fe7-49d8-896c-aaf5fd0471f3"
      },
      "execution_count": 32,
      "outputs": [
        {
          "output_type": "stream",
          "name": "stdout",
          "text": [
            "Daily temperatures: [-1.76607236 -0.68134088  4.50049271 -1.95179705 -1.823306    7.5663906\n",
            " 22.01038231 13.4241369   6.59164575  2.95090365 -5.87011146 29.17902408\n",
            "  4.23514979 14.56101447 18.01126817 12.01435945 -0.27015293 17.52491819\n",
            " -7.70597975 10.97728272 -8.6091518  30.8333572  11.29512051 34.35275037\n",
            " -9.71325195 18.88688757 -5.25879872 -6.73156702 -6.06087393 10.31565417]\n",
            "Weekly averages: [ 0.97406117 11.38099687 11.01275952 11.85722988  0.23967502]\n"
          ]
        }
      ]
    },
    {
      "cell_type": "code",
      "source": [],
      "metadata": {
        "id": "MXzz0DqHl_Po"
      },
      "execution_count": null,
      "outputs": []
    }
  ]
}