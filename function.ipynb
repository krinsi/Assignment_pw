{
  "nbformat": 4,
  "nbformat_minor": 0,
  "metadata": {
    "colab": {
      "provenance": []
    },
    "kernelspec": {
      "name": "python3",
      "display_name": "Python 3"
    },
    "language_info": {
      "name": "python"
    }
  },
  "cells": [
    {
      "cell_type": "markdown",
      "source": [
        "# 1. Write a Python function that takes a list of numbers as input and returns the sum of all even numbers in the list."
      ],
      "metadata": {
        "id": "SiPrkxERU99C"
      }
    },
    {
      "cell_type": "code",
      "source": [
        "def sum1(l1):\n",
        "  return sum(list(filter(lambda x:x%2==0,l1)))\n",
        "\n",
        "l1=list(map(int,input().split(',')))\n",
        "print(l1)\n",
        "result=sum1(l1)\n",
        "print(result)"
      ],
      "metadata": {
        "colab": {
          "base_uri": "https://localhost:8080/"
        },
        "id": "VAM1-AcVVAE1",
        "outputId": "ecf552d3-296c-457f-c4c0-9d283ba96d69"
      },
      "execution_count": 2,
      "outputs": [
        {
          "output_type": "stream",
          "name": "stdout",
          "text": [
            "3,45,66\n",
            "[3, 45, 66]\n",
            "66\n"
          ]
        }
      ]
    },
    {
      "cell_type": "markdown",
      "source": [
        "# 2. Create a Python function that accepts a string and returns the reverse of that string."
      ],
      "metadata": {
        "id": "hAiT-E03VUJ0"
      }
    },
    {
      "cell_type": "code",
      "source": [
        "def reverse_string(s1):\n",
        "  return s1[::-1]\n",
        "\n",
        "s1=input(\"Enter a string :\")\n",
        "result=reverse_string(s1)\n",
        "print(result)"
      ],
      "metadata": {
        "colab": {
          "base_uri": "https://localhost:8080/"
        },
        "id": "t-3DFITlVH3R",
        "outputId": "6cdd95b4-766e-4252-f94a-e8f68e07cf94"
      },
      "execution_count": 3,
      "outputs": [
        {
          "output_type": "stream",
          "name": "stdout",
          "text": [
            "Enter a string :krinsi\n",
            "isnirk\n"
          ]
        }
      ]
    },
    {
      "cell_type": "markdown",
      "source": [
        "# 3. Implement a Python function that takes a list of integers and returns a new list containing the squares of each number."
      ],
      "metadata": {
        "id": "XjEn0uxsVb0h"
      }
    },
    {
      "cell_type": "code",
      "source": [
        "def square_num(l1):\n",
        "  return list(map(lambda x:x**2,l1))\n",
        "\n",
        "l1=list(map(int,input().split(',')))\n",
        "print(l1)\n",
        "result=square_num(l1)\n",
        "print(result)"
      ],
      "metadata": {
        "colab": {
          "base_uri": "https://localhost:8080/"
        },
        "id": "sVd216ieVYel",
        "outputId": "040efa58-5498-4911-f627-f7c806518527"
      },
      "execution_count": 5,
      "outputs": [
        {
          "output_type": "stream",
          "name": "stdout",
          "text": [
            "2,3,4,5\n",
            "[2, 3, 4, 5]\n",
            "[4, 9, 16, 25]\n"
          ]
        }
      ]
    },
    {
      "cell_type": "markdown",
      "source": [
        "# 4. Write a Python function that checks if a given number is prime or not from 1 to 200"
      ],
      "metadata": {
        "id": "6eijlNGYVmZ8"
      }
    },
    {
      "cell_type": "code",
      "source": [
        "def prime_num(num):\n",
        "  if num<2:\n",
        "    return 1\n",
        "  for i in range(2,200):\n",
        "    if num%i==0:\n",
        "      return 1\n",
        "  return 0\n",
        "\n",
        "num=int(input())\n",
        "result=prime_num(num)\n",
        "if result==1:\n",
        "  print(\"not prime\")\n",
        "else:\n",
        "  print(\"prime\")"
      ],
      "metadata": {
        "colab": {
          "base_uri": "https://localhost:8080/"
        },
        "id": "awX18IoWVefZ",
        "outputId": "950c7cac-12eb-4105-99e2-83c539ab17d2"
      },
      "execution_count": 6,
      "outputs": [
        {
          "output_type": "stream",
          "name": "stdout",
          "text": [
            "3\n",
            "not prime\n"
          ]
        }
      ]
    },
    {
      "cell_type": "markdown",
      "source": [
        "# 5. Create an iterator class in Python that generates the Fibonacci sequence up to a specified number of terms."
      ],
      "metadata": {
        "id": "knnv-vHEVtHB"
      }
    },
    {
      "cell_type": "code",
      "source": [
        "class FibonacciIterator:\n",
        "    def __init__(self, n):\n",
        "        self.n = n\n",
        "        self.a, self.b = 0, 1\n",
        "        self.count = 0\n",
        "\n",
        "    def __iter__(self):\n",
        "        return self\n",
        "\n",
        "    def __next__(self):\n",
        "        if self.count < self.n:\n",
        "            result = self.a\n",
        "            self.a, self.b = self.b, self.a + self.b\n",
        "\n",
        "            self.count += 1\n",
        "            return result\n",
        "        else:\n",
        "            raise StopIteration\n",
        "\n",
        "\n",
        "n = 10\n",
        "fibonacci_iterator = FibonacciIterator(n)\n",
        "for num in fibonacci_iterator:\n",
        "    print(num)\n"
      ],
      "metadata": {
        "colab": {
          "base_uri": "https://localhost:8080/"
        },
        "id": "HXoSN_5DVo1J",
        "outputId": "0250a494-efa0-4b3f-dff5-5561c1fd560b"
      },
      "execution_count": 7,
      "outputs": [
        {
          "output_type": "stream",
          "name": "stdout",
          "text": [
            "0\n",
            "1\n",
            "1\n",
            "2\n",
            "3\n",
            "5\n",
            "8\n",
            "13\n",
            "21\n",
            "34\n"
          ]
        }
      ]
    },
    {
      "cell_type": "markdown",
      "source": [
        "# 6. Write a generator function in Python that yields the powers of 2 up to a given exponent."
      ],
      "metadata": {
        "id": "xBxbVg53WLjU"
      }
    },
    {
      "cell_type": "code",
      "source": [
        "def powers_of_2(n):\n",
        "    power = 1\n",
        "    for i in range(n+1):\n",
        "        yield power\n",
        "        power *= 2\n",
        "\n",
        "n = 5\n",
        "for power in powers_of_2(n):\n",
        "    print(power)"
      ],
      "metadata": {
        "colab": {
          "base_uri": "https://localhost:8080/"
        },
        "id": "PDtxLTPLWQGU",
        "outputId": "869aca42-9545-4167-e9ee-cec93d38301b"
      },
      "execution_count": 8,
      "outputs": [
        {
          "output_type": "stream",
          "name": "stdout",
          "text": [
            "1\n",
            "2\n",
            "4\n",
            "8\n",
            "16\n",
            "32\n"
          ]
        }
      ]
    },
    {
      "cell_type": "markdown",
      "source": [
        "# 7. Implement a generator function that reads a file line by line and yields each line as a string."
      ],
      "metadata": {
        "id": "H7WGdO-LWOr7"
      }
    },
    {
      "cell_type": "code",
      "source": [
        "def read_lines(file_path):\n",
        "    \"\"\"Generator function that reads a file line by line and yields each line.\"\"\"\n",
        "    try:\n",
        "        with open(file_path, 'r') as file:\n",
        "            for line in file:\n",
        "                yield line\n",
        "    except IOError as e:\n",
        "        print(f\"Error reading file: {e}\")\n",
        "\n",
        "# Example usage\n",
        "file_path = 'example.txt'  # Replace with your file path\n",
        "\n",
        "for line in read_lines(file_path):\n",
        "    print(line, end='')  # `end=''` is used to avoid adding extra new lines since `line` already includes a newline character\n"
      ],
      "metadata": {
        "colab": {
          "base_uri": "https://localhost:8080/"
        },
        "id": "LoQXz7gBWGyP",
        "outputId": "1135334b-4e9b-4c93-ae27-1e5501f341af"
      },
      "execution_count": 10,
      "outputs": [
        {
          "output_type": "stream",
          "name": "stdout",
          "text": [
            "Error reading file: [Errno 2] No such file or directory: 'example.txt'\n"
          ]
        }
      ]
    },
    {
      "cell_type": "markdown",
      "source": [
        "# 8. Use a lambda function in Python to sort a list of tuples based on the second element of each tuple."
      ],
      "metadata": {
        "id": "5D6BBYj8WQqn"
      }
    },
    {
      "cell_type": "code",
      "source": [
        "data = [(1, 5), (3, 2), (2, 8), (4, 1)]\n",
        "sorted_data = sorted(data, key=lambda x: x[1])\n",
        "print(sorted_data)"
      ],
      "metadata": {
        "colab": {
          "base_uri": "https://localhost:8080/"
        },
        "id": "Fk4Z_g1uWVfU",
        "outputId": "35eb3fc7-fced-404b-ff0d-d86faafdc1b9"
      },
      "execution_count": 9,
      "outputs": [
        {
          "output_type": "stream",
          "name": "stdout",
          "text": [
            "[(4, 1), (3, 2), (1, 5), (2, 8)]\n"
          ]
        }
      ]
    },
    {
      "cell_type": "markdown",
      "source": [
        "# 9. Write a Python program that uses `map()` to convert a list of temperatures from Celsius to Fahrenheit."
      ],
      "metadata": {
        "id": "j_vwGnQ_WV55"
      }
    },
    {
      "cell_type": "code",
      "source": [
        "def celsius_to_fahrenheit(celsius):\n",
        "    return (celsius * 9/5) + 32\n",
        "\n",
        "temperatures_celsius = [0, 10, 20, 30, 40]\n",
        "temperatures_fahrenheit = list(map(celsius_to_fahrenheit, temperatures_celsius))\n",
        "print(temperatures_fahrenheit)"
      ],
      "metadata": {
        "colab": {
          "base_uri": "https://localhost:8080/"
        },
        "id": "-EqczfTaWYf1",
        "outputId": "f70cf28f-6b98-480b-f3cd-ce7a6d1d6d88"
      },
      "execution_count": 11,
      "outputs": [
        {
          "output_type": "stream",
          "name": "stdout",
          "text": [
            "[32.0, 50.0, 68.0, 86.0, 104.0]\n"
          ]
        }
      ]
    },
    {
      "cell_type": "markdown",
      "source": [
        "# 10. Create a Python program that uses `filter()` to remove all the vowels from a given string."
      ],
      "metadata": {
        "id": "1IfS9BwKWY5B"
      }
    },
    {
      "cell_type": "code",
      "source": [
        "def is_vowel(char):\n",
        "    vowels = 'aeiouAEIOU'\n",
        "    return char in vowels\n",
        "\n",
        "string = \"Hello, World!\"\n",
        "filtered_string = ''.join(filter(lambda x: not is_vowel(x), string))\n",
        "print(filtered_string)"
      ],
      "metadata": {
        "colab": {
          "base_uri": "https://localhost:8080/"
        },
        "id": "PPFioDs_WbOM",
        "outputId": "875d9b81-6dc6-4e82-c436-e58f2af58473"
      },
      "execution_count": 12,
      "outputs": [
        {
          "output_type": "stream",
          "name": "stdout",
          "text": [
            "Hll, Wrld!\n"
          ]
        }
      ]
    },
    {
      "cell_type": "markdown",
      "source": [
        "# 11 Imagine an accounting routine used in a book shop. It works on a list with sublists, which look like this:"
      ],
      "metadata": {
        "id": "xnXKVcy2WdaZ"
      }
    },
    {
      "cell_type": "code",
      "source": [
        "\n",
        "order = [ [\"34587\", \"Learning Python, Mark Lutz\", 4, 40.95], [\"98762\", \"Programming Python, Mark Lutz\", 5, 56.80], [\"77226\", \"Head First Python, Paul Barry\", 3, 32.95], [\"88112\", \"Einführung in Python3, Bernd Klein\", 3, 24.99]]\n",
        "print(list(map(lambda x: (x[0], x[2] * x[3]) if x[2] * x[3] >= 100 else (x[0], x[2] * x[3] + 10), order)))\n",
        "#"
      ],
      "metadata": {
        "colab": {
          "base_uri": "https://localhost:8080/"
        },
        "id": "QofQys_MWe7x",
        "outputId": "5725ebd1-79c7-442e-a24f-cf5efda3387d"
      },
      "execution_count": 13,
      "outputs": [
        {
          "output_type": "stream",
          "name": "stdout",
          "text": [
            "[('34587', 163.8), ('98762', 284.0), ('77226', 108.85000000000001), ('88112', 84.97)]\n"
          ]
        }
      ]
    },
    {
      "cell_type": "code",
      "source": [],
      "metadata": {
        "id": "nsDcYs8icm_3"
      },
      "execution_count": null,
      "outputs": []
    }
  ]
}